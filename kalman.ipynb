{
 "cells": [
  {
   "cell_type": "code",
   "execution_count": 1,
   "metadata": {},
   "outputs": [],
   "source": [
    "%matplotlib ipympl\n",
    "import numpy as np\n",
    "import random\n",
    "import matplotlib.pyplot as plt"
   ]
  },
  {
   "cell_type": "code",
   "execution_count": 2,
   "metadata": {},
   "outputs": [],
   "source": [
    "class Voltmeter:\n",
    "    def __init__(self, _truevoltage,_noiselevel):\n",
    "        self.truevoltage = _truevoltage\n",
    "        self.noiselevel = _noiselevel\n",
    "    def step(self):\n",
    "        return random.gauss(self.truevoltage, self.noiselevel)"
   ]
  },
  {
   "cell_type": "code",
   "execution_count": 3,
   "metadata": {},
   "outputs": [],
   "source": [
    "class KalmanFilter:\n",
    "    \n",
    "    def __init__(self, A, B, Q, H, P, x, R):\n",
    "        self.A = A\n",
    "        self.B = B\n",
    "        self.Q = Q\n",
    "        self.H = H\n",
    "        self.P = P\n",
    "        self.x = x\n",
    "        self.R = R\n",
    "        \n",
    "    def step(self, z, u):\n",
    "        x_pred = self.A @ self.x + self.B @ u\n",
    "        \n",
    "        P_pred = self.A @ self.P @ np.transpose(self.A) + self.Q\n",
    "        \n",
    "        K = P_pred @ np.transpose(self.A) @ np.linalg.inv(self.H @ P_pred @ np.transpose(self.H) + self.R)\n",
    "        self.x = x_pred + K @ (z - self.H @ x_pred)\n",
    "        self.P = (np.identity(self.P.shape[0]) - K @ self.H) @ P_pred\n",
    "   "
   ]
  },
  {
   "cell_type": "code",
   "execution_count": 12,
   "metadata": {},
   "outputs": [],
   "source": [
    "A = np.array([[1, 0], [0, 1]])\n",
    "H = np.array([[1, 0], [0, 1]])\n",
    "B = np.array([[0, 0], [0, 0]])\n",
    "Q = np.array([[0.00001, 0], [0, 1]])\n",
    "R = np.array([[0.1, 0 ], [0, 1]])\n",
    "x = np.array([3, 0])\n",
    "P = np.array([[1, 0], [0, 1]])"
   ]
  },
  {
   "cell_type": "code",
   "execution_count": 13,
   "metadata": {},
   "outputs": [],
   "source": [
    "kalman = KalmanFilter(A, B, Q, H, P, x, R)\n",
    "voltmeter = Voltmeter(1.25,0.25)"
   ]
  },
  {
   "cell_type": "code",
   "execution_count": 14,
   "metadata": {},
   "outputs": [],
   "source": [
    "x_values = []\n",
    "measured = []\n",
    "for i in range(200):\n",
    "    measured.append(voltmeter.step())\n",
    "    kalman.step(measured[-1], np.array([0,0]))\n",
    "    x_values.append(kalman.x[0])"
   ]
  },
  {
   "cell_type": "code",
   "execution_count": 15,
   "metadata": {},
   "outputs": [
    {
     "data": {
      "application/vnd.jupyter.widget-view+json": {
       "model_id": "65a8205f46ca423bb62d29e2ce5a5c51",
       "version_major": 2,
       "version_minor": 0
      },
      "text/html": [
       "<p>Failed to display Jupyter Widget of type <code>FigureCanvasNbAgg</code>.</p>\n",
       "<p>\n",
       "  If you're reading this message in the Jupyter Notebook or JupyterLab Notebook, it may mean\n",
       "  that the widgets JavaScript is still loading. If this message persists, it\n",
       "  likely means that the widgets JavaScript library is either not installed or\n",
       "  not enabled. See the <a href=\"https://ipywidgets.readthedocs.io/en/stable/user_install.html\">Jupyter\n",
       "  Widgets Documentation</a> for setup instructions.\n",
       "</p>\n",
       "<p>\n",
       "  If you're reading this message in another frontend (for example, a static\n",
       "  rendering on GitHub or <a href=\"https://nbviewer.jupyter.org/\">NBViewer</a>),\n",
       "  it may mean that your frontend doesn't currently support widgets.\n",
       "</p>\n"
      ],
      "text/plain": [
       "FigureCanvasNbAgg()"
      ]
     },
     "metadata": {},
     "output_type": "display_data"
    },
    {
     "data": {
      "text/plain": [
       "[<matplotlib.lines.Line2D at 0x7f41c05d1128>,\n",
       " <matplotlib.lines.Line2D at 0x7f41c05d12e8>,\n",
       " <matplotlib.lines.Line2D at 0x7f41c05d1b00>]"
      ]
     },
     "execution_count": 15,
     "metadata": {},
     "output_type": "execute_result"
    }
   ],
   "source": [
    "x = range(len(x_values))\n",
    "\n",
    "fig = plt.figure()\n",
    "ax = fig.add_subplot(111)\n",
    "ax.plot(x, x_values, x, measured, x, [voltmeter.truevoltage] * len(x_values))"
   ]
  },
  {
   "cell_type": "code",
   "execution_count": null,
   "metadata": {},
   "outputs": [],
   "source": []
  }
 ],
 "metadata": {
  "kernelspec": {
   "display_name": "Python 3",
   "language": "python",
   "name": "python3"
  },
  "language_info": {
   "codemirror_mode": {
    "name": "ipython",
    "version": 3
   },
   "file_extension": ".py",
   "mimetype": "text/x-python",
   "name": "python",
   "nbconvert_exporter": "python",
   "pygments_lexer": "ipython3",
   "version": "3.6.5"
  }
 },
 "nbformat": 4,
 "nbformat_minor": 2
}
