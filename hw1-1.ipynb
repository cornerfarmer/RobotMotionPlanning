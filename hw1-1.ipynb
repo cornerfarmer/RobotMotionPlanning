{
 "cells": [
  {
   "cell_type": "code",
   "execution_count": 61,
   "metadata": {},
   "outputs": [],
   "source": [
    "%matplotlib ipympl\n",
    "import matplotlib.pyplot as plt\n",
    "import matplotlib.patches as patches\n",
    "from math import cos, sin, pi\n",
    "import time\n",
    "from IPython import display\n",
    "import numpy as np\n",
    "import matplotlib.cm as cm"
   ]
  },
  {
   "cell_type": "code",
   "execution_count": 13,
   "metadata": {
    "collapsed": true
   },
   "outputs": [],
   "source": [
    "class Obstacle:\n",
    "    def __init__(self, x, y, width, height):\n",
    "        self.x = x\n",
    "        self.y = y\n",
    "        self.width = width\n",
    "        self.height = height\n",
    "        \n",
    "    def lines_collide(self, x0_start, y0_start, x0_end, y0_end, x1_start, y1_start, x1_end, y1_end):\n",
    "        x0_delta = x0_end - x0_start\n",
    "        y0_delta = y0_end - y0_start\n",
    "        x1_delta = x1_end - x1_start\n",
    "        y1_delta = y1_end - y1_start\n",
    "        \n",
    "        d = x1_delta * y0_delta - x0_delta * y1_delta\n",
    "        if d == 0:\n",
    "            return False\n",
    "        \n",
    "        s = (1 / d) * ((x0_start - x1_start) * y0_delta - (y0_start - y1_start) * x0_delta)\n",
    "        t = (1 / d) * -(-(x0_start - x1_start) * y1_delta + (y0_start - y1_start) * x1_delta)\n",
    "        return s >= 0 and s <= 1 and t >= 0 and t <= 1\n",
    "    \n",
    "    def collides_with(self, x_start, y_start, x_end, y_end):\n",
    "        return self.lines_collide(self.x, self.y, self.x + self.width, self.y, x_start, y_start, x_end, y_end) or \\\n",
    "            self.lines_collide(self.x, self.y, self.x, self.y + self.height, x_start, y_start, x_end, y_end) or \\\n",
    "            self.lines_collide(self.x + self.width, self.y, self.x + self.width, self.y + self.height, x_start, y_start, x_end, y_end) or \\\n",
    "            self.lines_collide(self.x, self.y + self.height, self.x + self.width, self.y + self.height, x_start, y_start, x_end, y_end)          \n",
    "    \n",
    "    def draw(self, ax):\n",
    "        ax.add_patch(\n",
    "            patches.Rectangle(\n",
    "                (self.x, self.y),\n",
    "                self.width, \n",
    "                self.height,\n",
    "            )\n",
    "        )"
   ]
  },
  {
   "cell_type": "code",
   "execution_count": 14,
   "metadata": {},
   "outputs": [],
   "source": [
    "class Joint:\n",
    "    def __init__(self, length, min_angle, max_angle):\n",
    "        self.length = length\n",
    "        self.min_angle = min_angle\n",
    "        self.max_angle = max_angle\n",
    "        self.angle = self.min_angle\n",
    "        self.childs = []\n",
    "        self.line = None\n",
    "        \n",
    "    def add_child(self, new_joint):\n",
    "        self.childs.append(new_joint)\n",
    "        \n",
    "    def collides_with(self, obstacles, offset_x, offset_y, offset_angle):\n",
    "        x_end = offset_x + cos((self.angle + offset_angle) / 180 * pi) * self.length\n",
    "        y_end = offset_y + sin((self.angle + offset_angle) / 180 * pi) * self.length   \n",
    "                \n",
    "        for obstacle in obstacles:\n",
    "            if obstacle.collides_with(offset_x, offset_y, x_end, y_end):\n",
    "                return True\n",
    "        \n",
    "        for child in self.childs:\n",
    "            if child.collides_with(obstacles, x_end, y_end, (self.angle + offset_angle) + 180):\n",
    "                return True\n",
    "        return False\n",
    "    \n",
    "    def draw(self, ax, offset_x, offset_y, offset_angle):\n",
    "        x_end = offset_x + cos((self.angle + offset_angle) / 180 * pi) * self.length\n",
    "        y_end = offset_y + sin((self.angle + offset_angle) / 180 * pi) * self.length       \n",
    "        if self.line is None:\n",
    "            self.line = ax.plot([offset_x, x_end], [offset_y, y_end], color='k', linestyle='-', linewidth=2)[0]\n",
    "        else:\n",
    "            self.line.set_xdata([offset_x, x_end])\n",
    "            self.line.set_ydata([offset_y, y_end])\n",
    "        \n",
    "        for child in self.childs:\n",
    "            child.draw(ax, x_end, y_end, (self.angle + offset_angle) + 180)\n",
    "            \n",
    "    def reset(self):\n",
    "        self.angle = self.min_angle\n",
    "        for child in self.childs:\n",
    "            child.reset()\n",
    "            \n",
    "    def advance(self, step_size):\n",
    "        for child in self.childs:\n",
    "            if child.advance(step_size):\n",
    "                return True\n",
    "            \n",
    "        self.angle += step_size\n",
    "        if self.angle >= self.max_angle:\n",
    "            self.angle = self.min_angle\n",
    "            return False\n",
    "        else:\n",
    "            return True\n",
    "    \n",
    "    def get_angles(self):\n",
    "        angles = [self.angle] \n",
    "        for child in self.childs:\n",
    "            angles += child.get_angles()\n",
    "        return angles"
   ]
  },
  {
   "cell_type": "code",
   "execution_count": 75,
   "metadata": {},
   "outputs": [],
   "source": [
    "obstacles = [Obstacle(10, 50, 20, 20), Obstacle(80, 20, 10, 50)]"
   ]
  },
  {
   "cell_type": "code",
   "execution_count": 82,
   "metadata": {},
   "outputs": [],
   "source": [
    "root = Joint(40, 0, 180)\n",
    "root.add_child(Joint(30, 0, 360))\n",
    "#root.collides_with(obstacles, 0, 0)"
   ]
  },
  {
   "cell_type": "code",
   "execution_count": 83,
   "metadata": {},
   "outputs": [
    {
     "data": {
      "application/vnd.jupyter.widget-view+json": {
       "model_id": "6ff417aac51d4053a10b1ea4bae7c3cb",
       "version_major": 2,
       "version_minor": 0
      },
      "text/html": [
       "<p>Failed to display Jupyter Widget of type <code>FigureCanvasNbAgg</code>.</p>\n",
       "<p>\n",
       "  If you're reading this message in the Jupyter Notebook or JupyterLab Notebook, it may mean\n",
       "  that the widgets JavaScript is still loading. If this message persists, it\n",
       "  likely means that the widgets JavaScript library is either not installed or\n",
       "  not enabled. See the <a href=\"https://ipywidgets.readthedocs.io/en/stable/user_install.html\">Jupyter\n",
       "  Widgets Documentation</a> for setup instructions.\n",
       "</p>\n",
       "<p>\n",
       "  If you're reading this message in another frontend (for example, a static\n",
       "  rendering on GitHub or <a href=\"https://nbviewer.jupyter.org/\">NBViewer</a>),\n",
       "  it may mean that your frontend doesn't currently support widgets.\n",
       "</p>\n"
      ],
      "text/plain": [
       "FigureCanvasNbAgg()"
      ]
     },
     "metadata": {},
     "output_type": "display_data"
    }
   ],
   "source": [
    "fig = plt.figure()\n",
    "ax = fig.add_subplot(111, aspect='equal')\n",
    "fig.canvas.draw()\n",
    "background = fig.canvas.copy_from_bbox(ax.bbox)\n",
    "ax.set_xlim(0, 100)\n",
    "ax.set_ylim(0, 100)\n",
    "\n",
    "               \n",
    "def draw():    \n",
    "    global ax\n",
    "    #ax.clear()\n",
    "    #ax = fig.add_subplot(111, aspect='equal')\n",
    "    fig.canvas.restore_region(background)\n",
    "    for obstacle in obstacles: \n",
    "        obstacle.draw(ax)\n",
    "    root.draw(ax, 50, 0, 0) \n",
    "    fig.canvas.blit(ax.bbox) \n",
    "    fig.canvas.draw()\n"
   ]
  },
  {
   "cell_type": "code",
   "execution_count": 84,
   "metadata": {},
   "outputs": [
    {
     "data": {
      "application/vnd.jupyter.widget-view+json": {
       "model_id": "cc4b3eccad544751b9d61ea0939c3551",
       "version_major": 2,
       "version_minor": 0
      },
      "text/html": [
       "<p>Failed to display Jupyter Widget of type <code>FigureCanvasNbAgg</code>.</p>\n",
       "<p>\n",
       "  If you're reading this message in the Jupyter Notebook or JupyterLab Notebook, it may mean\n",
       "  that the widgets JavaScript is still loading. If this message persists, it\n",
       "  likely means that the widgets JavaScript library is either not installed or\n",
       "  not enabled. See the <a href=\"https://ipywidgets.readthedocs.io/en/stable/user_install.html\">Jupyter\n",
       "  Widgets Documentation</a> for setup instructions.\n",
       "</p>\n",
       "<p>\n",
       "  If you're reading this message in another frontend (for example, a static\n",
       "  rendering on GitHub or <a href=\"https://nbviewer.jupyter.org/\">NBViewer</a>),\n",
       "  it may mean that your frontend doesn't currently support widgets.\n",
       "</p>\n"
      ],
      "text/plain": [
       "FigureCanvasNbAgg()"
      ]
     },
     "metadata": {},
     "output_type": "display_data"
    },
    {
     "data": {
      "text/plain": [
       "<matplotlib.collections.QuadMesh at 0x7f93a496d4a8>"
      ]
     },
     "execution_count": 84,
     "metadata": {},
     "output_type": "execute_result"
    }
   ],
   "source": [
    "for i in range(300):\n",
    "    root.advance(10)  \n",
    "draw()\n",
    "go_on = True\n",
    "root.reset()\n",
    "configuration_space_in = [[] for i in range(len(root.get_angles()))]\n",
    "configuration_space_out = []\n",
    "\n",
    "while go_on:\n",
    "    go_on = root.advance(3)    \n",
    "    for i, angle in enumerate(root.get_angles()):\n",
    "        configuration_space_in[i].append(angle)\n",
    "    configuration_space_out.append(0 if root.collides_with(obstacles, 50, 0, 0) else 1)\n",
    "\n",
    "x=np.unique(configuration_space_in[1])\n",
    "y=np.unique(configuration_space_in[0])\n",
    "X,Y = np.meshgrid(x,y)\n",
    "\n",
    "Z=np.array(configuration_space_out).reshape(len(y),len(x))\n",
    "#print(Z)\n",
    "fig = plt.figure()\n",
    "ax = fig.add_subplot(111, aspect='equal')\n",
    "ax.pcolormesh(X,Y,Z, cmap=cm.gray)"
   ]
  },
  {
   "cell_type": "code",
   "execution_count": 7,
   "metadata": {},
   "outputs": [
    {
     "name": "stdout",
     "output_type": "stream",
     "text": [
      "False\n"
     ]
    },
    {
     "ename": "KeyboardInterrupt",
     "evalue": "",
     "output_type": "error",
     "traceback": [
      "\u001b[0;31m---------------------------------------------------------------------------\u001b[0m",
      "\u001b[0;31mKeyboardInterrupt\u001b[0m                         Traceback (most recent call last)",
      "\u001b[0;32m<ipython-input-7-3214074acf7c>\u001b[0m in \u001b[0;36m<module>\u001b[0;34m()\u001b[0m\n\u001b[1;32m      5\u001b[0m     \u001b[0mdisplay\u001b[0m\u001b[0;34m.\u001b[0m\u001b[0mclear_output\u001b[0m\u001b[0;34m(\u001b[0m\u001b[0;34m)\u001b[0m\u001b[0;34m\u001b[0m\u001b[0m\n\u001b[1;32m      6\u001b[0m     \u001b[0mprint\u001b[0m\u001b[0;34m(\u001b[0m\u001b[0mroot\u001b[0m\u001b[0;34m.\u001b[0m\u001b[0mcollides_with\u001b[0m\u001b[0;34m(\u001b[0m\u001b[0mobstacles\u001b[0m\u001b[0;34m,\u001b[0m \u001b[0;36m50\u001b[0m\u001b[0;34m,\u001b[0m \u001b[0;36m0\u001b[0m\u001b[0;34m,\u001b[0m \u001b[0;36m0\u001b[0m\u001b[0;34m)\u001b[0m\u001b[0;34m)\u001b[0m\u001b[0;34m\u001b[0m\u001b[0m\n\u001b[0;32m----> 7\u001b[0;31m     \u001b[0mtime\u001b[0m\u001b[0;34m.\u001b[0m\u001b[0msleep\u001b[0m\u001b[0;34m(\u001b[0m\u001b[0;36m0.4\u001b[0m\u001b[0;34m)\u001b[0m\u001b[0;34m\u001b[0m\u001b[0m\n\u001b[0m",
      "\u001b[0;31mKeyboardInterrupt\u001b[0m: "
     ]
    }
   ],
   "source": [
    "root.reset()\n",
    "for i in range(1000):\n",
    "    root.advance(20)\n",
    "    draw()\n",
    "    display.clear_output()\n",
    "    print(root.collides_with(obstacles, 50, 0, 0))\n",
    "    time.sleep(0.4)"
   ]
  },
  {
   "cell_type": "code",
   "execution_count": null,
   "metadata": {},
   "outputs": [],
   "source": []
  }
 ],
 "metadata": {
  "kernelspec": {
   "display_name": "Python 3",
   "language": "python",
   "name": "python3"
  },
  "language_info": {
   "codemirror_mode": {
    "name": "ipython",
    "version": 3
   },
   "file_extension": ".py",
   "mimetype": "text/x-python",
   "name": "python",
   "nbconvert_exporter": "python",
   "pygments_lexer": "ipython3",
   "version": "3.6.3"
  }
 },
 "nbformat": 4,
 "nbformat_minor": 2
}
