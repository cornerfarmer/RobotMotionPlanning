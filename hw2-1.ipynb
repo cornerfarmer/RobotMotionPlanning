{
 "cells": [
  {
   "cell_type": "code",
   "execution_count": 46,
   "metadata": {},
   "outputs": [],
   "source": [
    "%matplotlib ipympl\n",
    "import matplotlib.pyplot as plt\n",
    "import matplotlib.patches as patches\n",
    "import numpy as np"
   ]
  },
  {
   "cell_type": "code",
   "execution_count": 78,
   "metadata": {},
   "outputs": [],
   "source": [
    "class Obstacle:\n",
    "    def __init__(self, pos, radius, k_rep, infl):\n",
    "        self.pos = pos\n",
    "        self.radius = radius\n",
    "        self.k_rep = k_rep\n",
    "        self.infl = infl\n",
    "        \n",
    "    def calc_f(self, pos):\n",
    "        dist = np.sqrt(np.sum((pos - self.pos) ** 2)) - self.radius\n",
    "        if dist < self.infl:\n",
    "            f = self.k_rep * (1 / self.infl - 1 / dist) * 1 / (dist ** 2)\n",
    "        else:\n",
    "            f = 0\n",
    "        return np.array([(self.pos[0] - pos[0]) / dist * f, (self.pos[1] - pos[1]) / dist * f])"
   ]
  },
  {
   "cell_type": "code",
   "execution_count": 79,
   "metadata": {},
   "outputs": [],
   "source": [
    "def step(pos, goal, obstacles, k_att):\n",
    "    f = -k_att * (pos - goal)\n",
    "    for obstacle in obstacles:\n",
    "        f += obstacle.calc_f(pos)        \n",
    "\n",
    "    pos += f * 0.01\n",
    "    \n",
    "def traverse(pos, goal, obstacles, k_att):\n",
    "    fig = plt.figure()\n",
    "    ax = fig.add_subplot(111, aspect='equal')\n",
    "    fig.canvas.draw()\n",
    "    ax.set_xlim(0, 100)\n",
    "    ax.set_ylim(0, 100)\n",
    "    for obstacle in obstacles:\n",
    "        ax.add_patch(\n",
    "            patches.Circle(\n",
    "                obstacle.pos,\n",
    "                obstacle.radius\n",
    "            )\n",
    "        )\n",
    "    \n",
    "    trajectory = [[], []]\n",
    "    for i in range(1000):\n",
    "        step(pos, goal, obstacles, k_att)\n",
    "        trajectory[0].append(pos[0])\n",
    "        trajectory[1].append(pos[1])\n",
    "    ax.plot(*trajectory)\n"
   ]
  },
  {
   "cell_type": "code",
   "execution_count": 85,
   "metadata": {},
   "outputs": [
    {
     "name": "stderr",
     "output_type": "stream",
     "text": [
      "/usr/local/lib/python3.6/dist-packages/matplotlib/pyplot.py:528: RuntimeWarning: More than 20 figures have been opened. Figures created through the pyplot interface (`matplotlib.pyplot.figure`) are retained until explicitly closed and may consume too much memory. (To control this warning, see the rcParam `figure.max_open_warning`).\n",
      "  max_open_warning, RuntimeWarning)\n"
     ]
    },
    {
     "data": {
      "application/vnd.jupyter.widget-view+json": {
       "model_id": "1ec089382cb84ac08970c81b8be1c59d",
       "version_major": 2,
       "version_minor": 0
      },
      "text/html": [
       "<p>Failed to display Jupyter Widget of type <code>FigureCanvasNbAgg</code>.</p>\n",
       "<p>\n",
       "  If you're reading this message in the Jupyter Notebook or JupyterLab Notebook, it may mean\n",
       "  that the widgets JavaScript is still loading. If this message persists, it\n",
       "  likely means that the widgets JavaScript library is either not installed or\n",
       "  not enabled. See the <a href=\"https://ipywidgets.readthedocs.io/en/stable/user_install.html\">Jupyter\n",
       "  Widgets Documentation</a> for setup instructions.\n",
       "</p>\n",
       "<p>\n",
       "  If you're reading this message in another frontend (for example, a static\n",
       "  rendering on GitHub or <a href=\"https://nbviewer.jupyter.org/\">NBViewer</a>),\n",
       "  it may mean that your frontend doesn't currently support widgets.\n",
       "</p>\n"
      ],
      "text/plain": [
       "FigureCanvasNbAgg()"
      ]
     },
     "metadata": {},
     "output_type": "display_data"
    }
   ],
   "source": [
    "traverse(\n",
    "    np.array([80.0, 80.0]),\n",
    "    np.array([30.0, 10.0]), \n",
    "    [\n",
    "        Obstacle(np.array([40, 30]), 10, 1000, 10),\n",
    "        Obstacle(np.array([70, 40]), 15, 100, 10)\n",
    "    ],\n",
    "    1\n",
    ")"
   ]
  },
  {
   "cell_type": "code",
   "execution_count": null,
   "metadata": {},
   "outputs": [],
   "source": []
  },
  {
   "cell_type": "code",
   "execution_count": null,
   "metadata": {},
   "outputs": [],
   "source": []
  }
 ],
 "metadata": {
  "kernelspec": {
   "display_name": "Python 3",
   "language": "python",
   "name": "python3"
  },
  "language_info": {
   "codemirror_mode": {
    "name": "ipython",
    "version": 3
   },
   "file_extension": ".py",
   "mimetype": "text/x-python",
   "name": "python",
   "nbconvert_exporter": "python",
   "pygments_lexer": "ipython3",
   "version": "3.6.5"
  }
 },
 "nbformat": 4,
 "nbformat_minor": 2
}
